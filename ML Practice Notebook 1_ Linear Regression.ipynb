{
  "cells": [
    {
      "cell_type": "markdown",
      "source": [
        "# ML Practice Notebook 1_ Linear Regression_Miah"
      ],
      "metadata": {
        "id": "ZFSViTxiE3pm"
      }
    },
    {
      "cell_type": "markdown",
      "metadata": {
        "id": "rriL8fYqW0gG"
      },
      "source": [
        "# M3 - M4\n",
        "Machine Learning & Linear Regression\n",
        "\n",
        " - Instructor: Sabya DG\n"
      ]
    },
    {
      "cell_type": "markdown",
      "metadata": {
        "id": "AH8Vu2UaW0gH"
      },
      "source": [
        "## Agenda\n",
        "1. Machine Learning\n",
        "    - Supervised vs. Unsupervised Learning\n",
        "2. Supervised Learning\n",
        "    - `X` and `y`\n",
        "    - Regression vs. Classification    \n",
        "    - The golden rule: train/test split\n",
        "3. Simple Linear Regression\n",
        "4. Polynomial Regression"
      ]
    },
    {
      "cell_type": "markdown",
      "metadata": {
        "id": "3aFqZFylW0gH"
      },
      "source": [
        "## Machine Learning\n"
      ]
    },
    {
      "cell_type": "markdown",
      "metadata": {
        "id": "j7B8DAliW0gI"
      },
      "source": [
        "## Definition of ML / What is ML?\n",
        "\n",
        "Seen as a subset of AI. ML algorithms build a model based on sample data (training data), in order to make predictions without being explicitly programmed to do so.\n",
        "\n",
        "A field of study that gives computers the ability to learn without being explicitly programmed.\n",
        "– Arthur Samuel (1959)"
      ]
    },
    {
      "cell_type": "markdown",
      "metadata": {
        "id": "wpMYTHuQXFnc"
      },
      "source": []
    },
    {
      "cell_type": "markdown",
      "metadata": {
        "id": "ZZsGAu3nW0gJ"
      },
      "source": [
        "# Types of Machine Learning: Supervised and Unsupervised"
      ]
    },
    {
      "cell_type": "markdown",
      "metadata": {
        "id": "L3MvM6SaW0gJ"
      },
      "source": [
        "## Machine Learning: Supervised Learning\n",
        "- In supervised learning, we have a set of observations (__*X*__) with an associated target (__*y*__)\n",
        "- We wish to find a model function that relates __*X*__ to __*y*__\n",
        "- Then use that model function to predict future observations\n",
        "\n"
      ]
    },
    {
      "cell_type": "markdown",
      "metadata": {
        "id": "WYwQnOtNW0gJ"
      },
      "source": [
        "## Machine Learning: Unsupervised Learning\n",
        "- We have __*X*__ (the data) but no __*y*__ (associated target)\n",
        "\n"
      ]
    },
    {
      "cell_type": "code",
      "execution_count": null,
      "metadata": {
        "id": "lRbYbHDSEk_b"
      },
      "outputs": [],
      "source": [
        "\n",
        "#  Supervised Machine Learning:\n",
        "\n",
        "#  সুপারভাইজড মেশিন লার্নিং হল এমন একটি পদ্ধতি যেখানে মডেলকে প্রশিক্ষণ দেওয়ার জন্য লেবেলযুক্ত ডেটা ব্যবহার করা হয়।\n",
        "#  এটি ইনপুট এবং আউটপুটের মধ্যে সম্পর্ক শিখে ভবিষ্যৎ ইনপুটের জন্য আউটপুট অনুমান করতে পারে।\n",
        "#  উদাহরণ: ইমেইল স্প্যাম ফিল্টারিং, যেখানে ইমেইলগুলিকে \"স্প্যাম\" বা \"নন-স্প্যাম\" হিসাবে লেবেল করা থাকে।\n",
        "\n",
        "#  Unsupervised Machine Learning:\n",
        "\n",
        "#  আনসুপারভাইজড মেশিন লার্নিং হল এমন একটি পদ্ধতি যেখানে মডেলকে প্রশিক্ষণ দেওয়ার জন্য লেবেল ছাড়া ডেটা ব্যবহার করা হয়।\n",
        "#  এটি ডেটার প্যাটার্ন বা গঠন নিজেই শিখে এবং ক্লাস্টার বা গ্রুপ তৈরি করে।\n",
        "#  উদাহরণ: গ্রাহকদের পছন্দের ভিত্তিতে তাদেরকে বিভিন্ন গ্রুপে বিভাজন করা।\n",
        "\n"
      ]
    },
    {
      "cell_type": "markdown",
      "metadata": {
        "id": "pXVjocaVW0gJ"
      },
      "source": [
        "# Types of Supervised Learning: Regression and Classification"
      ]
    },
    {
      "cell_type": "markdown",
      "metadata": {
        "id": "M04XdHt9W0gJ"
      },
      "source": [
        "## Classification vs. Regression\n",
        "\n",
        "* Classification problems: predicting among two or more categories, also known as classes\n",
        "    - Predict whether a patient has a liver disease or not\n",
        "    - Predict whether the letter grade of a student (A, B, C, D or F)\n",
        "* Regression problem: predicting a continuous (in other words, a number) value\n",
        "    - Predict house prices\n",
        "    - Predict someone's age from their photo"
      ]
    },
    {
      "cell_type": "markdown",
      "metadata": {
        "id": "ALIG4JDRW0gJ"
      },
      "source": [
        "## The golden rule\n",
        "- When you're doing supervised learning, now that you've identified **X** and **y**\n",
        "- **You need to split your data into train and test**\n",
        "- **You only work with the training data**\n",
        "\n",
        "### Why?\n",
        "- As soon as you start making decisions on what features to include, drop etc., you are letting a part of the test data influence your decision-making\n",
        "- Your results will not be truly representative of \"unseen data\""
      ]
    },
    {
      "cell_type": "markdown",
      "metadata": {
        "id": "52byPdDAW0gJ"
      },
      "source": [
        "## The big picture\n",
        "- We train using the **training data**\n",
        "- We test what is learned by the model on the **test data**\n",
        "- We have two scores: **training** vs. **test**\n",
        "\n",
        "### Which matters more?\n",
        "- It doesn't matter how good our **training score** is because the **test score is what matters**\n",
        "- Good models that generalize well though will have **similar training and testing scores**\n",
        "\n",
        "**We want to pick models that generalize well to unseen data**"
      ]
    },
    {
      "cell_type": "markdown",
      "metadata": {
        "id": "YpHDKGDPW0gJ"
      },
      "source": [
        "## The fundamental tradeoff\n",
        "\n",
        "| Model | Training Score relative to Test Score | Performance |\n",
        "|:-|:-|:-|\n",
        "| Too Complex|High training score compared to test score| Overfit |\n",
        "|Too Simple|Low training score and low test score|Underfit|\n",
        "\n",
        "- Models that have **extremely high training scores** (that are too good to be true) that are **highly complex** that learned very complex relationships in the training data **can be overfit**\n",
        "- On the other hand, models that have **low training scores** that are **very simple** may not have learned the necessary relationships in the training data needed to predict well on unseen data; they are **underfit**"
      ]
    },
    {
      "cell_type": "markdown",
      "metadata": {
        "id": "rdKCotllW0gK"
      },
      "source": [
        "![img](https://miro.medium.com/max/2250/1*_7OPgojau8hkiPUiHoGK_w.png)"
      ]
    },
    {
      "cell_type": "markdown",
      "metadata": {
        "id": "UU_NxLr_W0gK"
      },
      "source": [
        "## Minimizing approximation error ...\n",
        "... means that our model generalizes well\n",
        "\n",
        "\n",
        "$$E_{approx} = (E_{test} - E_{train})$$\n",
        "\n",
        "- There is generally a \"trade-off\" between complexity and test error\n",
        "- A more complex model will fit closer to the peculiarities of the training data\n",
        "    - i.e., $E_{approx}\\;$ tends to get bigger as our model becomes more complex\n",
        "- This means it will likely not generalise well to new data!\n",
        "- $E_{approx}\\;$ tends to get smaller with more data"
      ]
    },
    {
      "cell_type": "markdown",
      "metadata": {
        "id": "NEbiVDhrW0gK"
      },
      "source": [
        "## The fundamental tradeoff (part 2)\n",
        "... In the \"bias-variance\" language\n",
        "\n",
        "- **The bias error** is an error from erroneous assumptions in the learning algorithm. High bias can cause an algorithm to miss the relevant relations between features and target outputs (underfitting).\n",
        "- **The variance** is an error from sensitivity to small fluctuations in the training set. High variance can cause an algorithm to model the random noise in the training data, rather than the intended outputs (overfitting)."
      ]
    },
    {
      "cell_type": "code",
      "execution_count": null,
      "metadata": {
        "id": "mnoKxKlsEk_d"
      },
      "outputs": [],
      "source": [
        "\n",
        "#  Feature:\n",
        "#  ফিচার হল ইনপুট ডেটার বৈশিষ্ট্য বা গুণাবলী যা মডেলকে প্রশিক্ষণ দিতে ব্যবহৃত হয়। উদাহরণ: গাড়ির ক্ষেত্রে গতি, ওজন, মডেল ইত্যাদি।\n",
        "\n",
        "\n",
        "#  Target Output:\n",
        "#  টার্গেট আউটপুট হল সেই ফলাফল যা মডেল প্রেডিক্ট করতে চেষ্টা করে। উদাহরণ: গাড়ির ক্ষেত্রে তার দাম বা বিক্রির সম্ভাবনা।\n",
        "\n",
        "\n",
        "#  Bias:\n",
        "#  বায়াস হলো একটি মডেলের সরলতা বা অনুমানের ভুল যা আসল ডেটার সাথে মডেলের দূরত্ব সৃষ্টি করে।\n",
        "#  বেশি বায়াস মানে মডেল আন্ডারফিটিং বা ডেটাকে ঠিকভাবে শিখতে না পারা।\n",
        "#  উদাহরণ: অতিরিক্ত সহজ মডেল যা ডেটার প্যাটার্ন ধরতে ব্যর্থ হয়।\n",
        "\n",
        "\n",
        "#  Variance:\n",
        "#  ভ্যারিয়েন্স হলো মডেলের ডেটার প্রতি সংবেদনশীলতা বা পরিবর্তনশীলতা।\n",
        "#  বেশি ভ্যারিয়েন্স মানে মডেল ওভারফিটিং বা ডেটার প্রতিটি সূক্ষ্ম বিবরণ শিখে ফেলা,\n",
        "#  ফলে নতুন ডেটার ক্ষেত্রে ভালো কাজ করতে না পারা।\n",
        "\n",
        "\n"
      ]
    },
    {
      "cell_type": "markdown",
      "metadata": {
        "id": "9f9nhMRoW0gK"
      },
      "source": [
        "## Linear Regression\n",
        "\n",
        "- Linear regression is one of the most basic and popular ML/statistical techniques.\n",
        "- Used as a predictive model\n",
        "- Assumes a linear relationship between the dependent variable (which is the variable we are trying to predict/estimate, **y**) and the independent variable/s (input variable/s used in the prediction, **X**)\n",
        "\n",
        "### Let's start with **simple** linear regression\n",
        "- Only one independent/input variable is used to predict the dependent variable."
      ]
    },
    {
      "cell_type": "markdown",
      "metadata": {
        "id": "9xTeqIDfW0gK"
      },
      "source": [
        "## Simple Linear Regression\n",
        "\n",
        "$$\\hat{y} = wx + b$$\n",
        "\n",
        "$\\hat{y}$ = Dependent variable\n",
        "\n",
        "$b$ = Constant\n",
        "\n",
        "$w$ = Coefficients\n",
        "\n",
        "$x$ = Independent variable"
      ]
    },
    {
      "cell_type": "markdown",
      "metadata": {
        "id": "z6_VScMmW0gK"
      },
      "source": [
        "## Multiple Linear Regression\n",
        "- Many $x$'s and $w$'s\n",
        "\n",
        "$$\\hat{y} = w_1x_1 + w_2x_2 + ... + b$$\n",
        "\n",
        "- The larger the value of $w_i$, the more influence $x_i$ has on the target $\\hat{y}$"
      ]
    },
    {
      "cell_type": "markdown",
      "metadata": {
        "id": "51V195U8W0gK"
      },
      "source": [
        "## Matrix representation\n",
        "\n",
        "- $\\hat{y}$ is the linear function of features $x$ and weights $w$.\n",
        "\n",
        "$$\\hat{y} = w^Tx + b$$\n",
        "        \n",
        "- $\\hat{y} \\rightarrow$ prediction\n",
        "- $w \\rightarrow$ weight vector\n",
        "- $b \\rightarrow$ bias\n",
        "- $x \\rightarrow$ features\n",
        "\n",
        "$$\\hat{y} = \\begin{bmatrix}w_1 & w_2 & \\cdots & w_d\\end{bmatrix}\\begin{bmatrix}x_1 \\\\ x_2 \\\\ \\vdots \\\\ x_d\\end{bmatrix} + b$$"
      ]
    },
    {
      "cell_type": "markdown",
      "metadata": {
        "id": "gi3p8gHwW0gK"
      },
      "source": [
        "## Matrix representation for multiple predictions\n",
        "\n",
        "$$\\hat{y} = w^TX + b$$\n",
        "        \n",
        "\n",
        "$$\\hat{y} = \\begin{bmatrix}w_1 & w_2 & \\cdots & w_d\\end{bmatrix}\\begin{bmatrix}x^{(1)}_1 & x^{(2)}_1 & \\ldots &x^{(n)}_1\\\\ x^{(1)}_2 & x^{(2)}_2 & \\ldots & x^{(n)}_2 \\\\ \\vdots & \\vdots & \\ldots \\\\ x^{(1)}_d & x^{(2)}_d & \\ldots & x^{(n)}_d\\end{bmatrix} + b$$"
      ]
    },
    {
      "cell_type": "markdown",
      "metadata": {
        "id": "Pt5ui9E2W0gK"
      },
      "source": [
        "## Let's try it!\n"
      ]
    },
    {
      "cell_type": "markdown",
      "metadata": {
        "id": "Pz1MeiMtW0gK"
      },
      "source": [
        "Let's start simple and imagine we have a dataset of Height and Weight. Let Height be our feature and Weight our Target."
      ]
    },
    {
      "cell_type": "code",
      "execution_count": null,
      "metadata": {
        "id": "WheC0lTbW0gL"
      },
      "outputs": [],
      "source": [
        "import pandas as pd\n",
        "import numpy as np\n",
        "import matplotlib.pyplot as plt\n"
      ]
    },
    {
      "cell_type": "code",
      "execution_count": null,
      "metadata": {
        "colab": {
          "base_uri": "https://localhost:8080/",
          "height": 206
        },
        "id": "UfySDEg3W0gL",
        "outputId": "3d621ebf-5987-4e2d-cbc4-1a8ac91ac820"
      },
      "outputs": [
        {
          "data": {
            "text/html": [
              "\n",
              "  <div id=\"df-7e1d5bc3-559d-477f-ae6d-205efd270c44\" class=\"colab-df-container\">\n",
              "    <div>\n",
              "<style scoped>\n",
              "    .dataframe tbody tr th:only-of-type {\n",
              "        vertical-align: middle;\n",
              "    }\n",
              "\n",
              "    .dataframe tbody tr th {\n",
              "        vertical-align: top;\n",
              "    }\n",
              "\n",
              "    .dataframe thead th {\n",
              "        text-align: right;\n",
              "    }\n",
              "</style>\n",
              "<table border=\"1\" class=\"dataframe\">\n",
              "  <thead>\n",
              "    <tr style=\"text-align: right;\">\n",
              "      <th></th>\n",
              "      <th>Height</th>\n",
              "      <th>Weight</th>\n",
              "    </tr>\n",
              "  </thead>\n",
              "  <tbody>\n",
              "    <tr>\n",
              "      <th>0</th>\n",
              "      <td>80.311261</td>\n",
              "      <td>160.643113</td>\n",
              "    </tr>\n",
              "    <tr>\n",
              "      <th>1</th>\n",
              "      <td>87.110098</td>\n",
              "      <td>160.223710</td>\n",
              "    </tr>\n",
              "    <tr>\n",
              "      <th>2</th>\n",
              "      <td>89.846123</td>\n",
              "      <td>160.859653</td>\n",
              "    </tr>\n",
              "    <tr>\n",
              "      <th>3</th>\n",
              "      <td>80.948662</td>\n",
              "      <td>163.638878</td>\n",
              "    </tr>\n",
              "    <tr>\n",
              "      <th>4</th>\n",
              "      <td>86.872933</td>\n",
              "      <td>161.606134</td>\n",
              "    </tr>\n",
              "  </tbody>\n",
              "</table>\n",
              "</div>\n",
              "    <div class=\"colab-df-buttons\">\n",
              "\n",
              "  <div class=\"colab-df-container\">\n",
              "    <button class=\"colab-df-convert\" onclick=\"convertToInteractive('df-7e1d5bc3-559d-477f-ae6d-205efd270c44')\"\n",
              "            title=\"Convert this dataframe to an interactive table.\"\n",
              "            style=\"display:none;\">\n",
              "\n",
              "  <svg xmlns=\"http://www.w3.org/2000/svg\" height=\"24px\" viewBox=\"0 -960 960 960\">\n",
              "    <path d=\"M120-120v-720h720v720H120Zm60-500h600v-160H180v160Zm220 220h160v-160H400v160Zm0 220h160v-160H400v160ZM180-400h160v-160H180v160Zm440 0h160v-160H620v160ZM180-180h160v-160H180v160Zm440 0h160v-160H620v160Z\"/>\n",
              "  </svg>\n",
              "    </button>\n",
              "\n",
              "  <style>\n",
              "    .colab-df-container {\n",
              "      display:flex;\n",
              "      gap: 12px;\n",
              "    }\n",
              "\n",
              "    .colab-df-convert {\n",
              "      background-color: #E8F0FE;\n",
              "      border: none;\n",
              "      border-radius: 50%;\n",
              "      cursor: pointer;\n",
              "      display: none;\n",
              "      fill: #1967D2;\n",
              "      height: 32px;\n",
              "      padding: 0 0 0 0;\n",
              "      width: 32px;\n",
              "    }\n",
              "\n",
              "    .colab-df-convert:hover {\n",
              "      background-color: #E2EBFA;\n",
              "      box-shadow: 0px 1px 2px rgba(60, 64, 67, 0.3), 0px 1px 3px 1px rgba(60, 64, 67, 0.15);\n",
              "      fill: #174EA6;\n",
              "    }\n",
              "\n",
              "    .colab-df-buttons div {\n",
              "      margin-bottom: 4px;\n",
              "    }\n",
              "\n",
              "    [theme=dark] .colab-df-convert {\n",
              "      background-color: #3B4455;\n",
              "      fill: #D2E3FC;\n",
              "    }\n",
              "\n",
              "    [theme=dark] .colab-df-convert:hover {\n",
              "      background-color: #434B5C;\n",
              "      box-shadow: 0px 1px 3px 1px rgba(0, 0, 0, 0.15);\n",
              "      filter: drop-shadow(0px 1px 2px rgba(0, 0, 0, 0.3));\n",
              "      fill: #FFFFFF;\n",
              "    }\n",
              "  </style>\n",
              "\n",
              "    <script>\n",
              "      const buttonEl =\n",
              "        document.querySelector('#df-7e1d5bc3-559d-477f-ae6d-205efd270c44 button.colab-df-convert');\n",
              "      buttonEl.style.display =\n",
              "        google.colab.kernel.accessAllowed ? 'block' : 'none';\n",
              "\n",
              "      async function convertToInteractive(key) {\n",
              "        const element = document.querySelector('#df-7e1d5bc3-559d-477f-ae6d-205efd270c44');\n",
              "        const dataTable =\n",
              "          await google.colab.kernel.invokeFunction('convertToInteractive',\n",
              "                                                    [key], {});\n",
              "        if (!dataTable) return;\n",
              "\n",
              "        const docLinkHtml = 'Like what you see? Visit the ' +\n",
              "          '<a target=\"_blank\" href=https://colab.research.google.com/notebooks/data_table.ipynb>data table notebook</a>'\n",
              "          + ' to learn more about interactive tables.';\n",
              "        element.innerHTML = '';\n",
              "        dataTable['output_type'] = 'display_data';\n",
              "        await google.colab.output.renderOutput(dataTable, element);\n",
              "        const docLink = document.createElement('div');\n",
              "        docLink.innerHTML = docLinkHtml;\n",
              "        element.appendChild(docLink);\n",
              "      }\n",
              "    </script>\n",
              "  </div>\n",
              "\n",
              "\n",
              "<div id=\"df-46336ca6-a981-4663-ada2-801aeb207c0d\">\n",
              "  <button class=\"colab-df-quickchart\" onclick=\"quickchart('df-46336ca6-a981-4663-ada2-801aeb207c0d')\"\n",
              "            title=\"Suggest charts.\"\n",
              "            style=\"display:none;\">\n",
              "\n",
              "<svg xmlns=\"http://www.w3.org/2000/svg\" height=\"24px\"viewBox=\"0 0 24 24\"\n",
              "     width=\"24px\">\n",
              "    <g>\n",
              "        <path d=\"M19 3H5c-1.1 0-2 .9-2 2v14c0 1.1.9 2 2 2h14c1.1 0 2-.9 2-2V5c0-1.1-.9-2-2-2zM9 17H7v-7h2v7zm4 0h-2V7h2v10zm4 0h-2v-4h2v4z\"/>\n",
              "    </g>\n",
              "</svg>\n",
              "  </button>\n",
              "\n",
              "<style>\n",
              "  .colab-df-quickchart {\n",
              "      --bg-color: #E8F0FE;\n",
              "      --fill-color: #1967D2;\n",
              "      --hover-bg-color: #E2EBFA;\n",
              "      --hover-fill-color: #174EA6;\n",
              "      --disabled-fill-color: #AAA;\n",
              "      --disabled-bg-color: #DDD;\n",
              "  }\n",
              "\n",
              "  [theme=dark] .colab-df-quickchart {\n",
              "      --bg-color: #3B4455;\n",
              "      --fill-color: #D2E3FC;\n",
              "      --hover-bg-color: #434B5C;\n",
              "      --hover-fill-color: #FFFFFF;\n",
              "      --disabled-bg-color: #3B4455;\n",
              "      --disabled-fill-color: #666;\n",
              "  }\n",
              "\n",
              "  .colab-df-quickchart {\n",
              "    background-color: var(--bg-color);\n",
              "    border: none;\n",
              "    border-radius: 50%;\n",
              "    cursor: pointer;\n",
              "    display: none;\n",
              "    fill: var(--fill-color);\n",
              "    height: 32px;\n",
              "    padding: 0;\n",
              "    width: 32px;\n",
              "  }\n",
              "\n",
              "  .colab-df-quickchart:hover {\n",
              "    background-color: var(--hover-bg-color);\n",
              "    box-shadow: 0 1px 2px rgba(60, 64, 67, 0.3), 0 1px 3px 1px rgba(60, 64, 67, 0.15);\n",
              "    fill: var(--button-hover-fill-color);\n",
              "  }\n",
              "\n",
              "  .colab-df-quickchart-complete:disabled,\n",
              "  .colab-df-quickchart-complete:disabled:hover {\n",
              "    background-color: var(--disabled-bg-color);\n",
              "    fill: var(--disabled-fill-color);\n",
              "    box-shadow: none;\n",
              "  }\n",
              "\n",
              "  .colab-df-spinner {\n",
              "    border: 2px solid var(--fill-color);\n",
              "    border-color: transparent;\n",
              "    border-bottom-color: var(--fill-color);\n",
              "    animation:\n",
              "      spin 1s steps(1) infinite;\n",
              "  }\n",
              "\n",
              "  @keyframes spin {\n",
              "    0% {\n",
              "      border-color: transparent;\n",
              "      border-bottom-color: var(--fill-color);\n",
              "      border-left-color: var(--fill-color);\n",
              "    }\n",
              "    20% {\n",
              "      border-color: transparent;\n",
              "      border-left-color: var(--fill-color);\n",
              "      border-top-color: var(--fill-color);\n",
              "    }\n",
              "    30% {\n",
              "      border-color: transparent;\n",
              "      border-left-color: var(--fill-color);\n",
              "      border-top-color: var(--fill-color);\n",
              "      border-right-color: var(--fill-color);\n",
              "    }\n",
              "    40% {\n",
              "      border-color: transparent;\n",
              "      border-right-color: var(--fill-color);\n",
              "      border-top-color: var(--fill-color);\n",
              "    }\n",
              "    60% {\n",
              "      border-color: transparent;\n",
              "      border-right-color: var(--fill-color);\n",
              "    }\n",
              "    80% {\n",
              "      border-color: transparent;\n",
              "      border-right-color: var(--fill-color);\n",
              "      border-bottom-color: var(--fill-color);\n",
              "    }\n",
              "    90% {\n",
              "      border-color: transparent;\n",
              "      border-bottom-color: var(--fill-color);\n",
              "    }\n",
              "  }\n",
              "</style>\n",
              "\n",
              "  <script>\n",
              "    async function quickchart(key) {\n",
              "      const quickchartButtonEl =\n",
              "        document.querySelector('#' + key + ' button');\n",
              "      quickchartButtonEl.disabled = true;  // To prevent multiple clicks.\n",
              "      quickchartButtonEl.classList.add('colab-df-spinner');\n",
              "      try {\n",
              "        const charts = await google.colab.kernel.invokeFunction(\n",
              "            'suggestCharts', [key], {});\n",
              "      } catch (error) {\n",
              "        console.error('Error during call to suggestCharts:', error);\n",
              "      }\n",
              "      quickchartButtonEl.classList.remove('colab-df-spinner');\n",
              "      quickchartButtonEl.classList.add('colab-df-quickchart-complete');\n",
              "    }\n",
              "    (() => {\n",
              "      let quickchartButtonEl =\n",
              "        document.querySelector('#df-46336ca6-a981-4663-ada2-801aeb207c0d button');\n",
              "      quickchartButtonEl.style.display =\n",
              "        google.colab.kernel.accessAllowed ? 'block' : 'none';\n",
              "    })();\n",
              "  </script>\n",
              "</div>\n",
              "    </div>\n",
              "  </div>\n"
            ],
            "text/plain": [
              "      Height      Weight\n",
              "0  80.311261  160.643113\n",
              "1  87.110098  160.223710\n",
              "2  89.846123  160.859653\n",
              "3  80.948662  163.638878\n",
              "4  86.872933  161.606134"
            ]
          },
          "execution_count": 6,
          "metadata": {},
          "output_type": "execute_result"
        }
      ],
      "source": [
        "import pandas as pd\n",
        "\n",
        "df = pd.read_csv('/content/weight-height.csv')\n",
        "\n",
        "df.head()"
      ]
    },
    {
      "cell_type": "code",
      "execution_count": null,
      "metadata": {
        "colab": {
          "base_uri": "https://localhost:8080/"
        },
        "id": "fnTAI2Dko9Ks",
        "outputId": "d270fb15-30ad-4230-a91c-805ae174d796"
      },
      "outputs": [
        {
          "data": {
            "text/plain": [
              "Index(['Height', 'Weight'], dtype='object')"
            ]
          },
          "execution_count": 7,
          "metadata": {},
          "output_type": "execute_result"
        }
      ],
      "source": [
        "df.columns"
      ]
    },
    {
      "cell_type": "code",
      "execution_count": null,
      "metadata": {
        "id": "Q6HmLEXrW0gM"
      },
      "outputs": [],
      "source": [
        "from sklearn.linear_model import LinearRegression\n",
        "\n",
        "X_train_sample = df['Height'].values.reshape(-1, 1)\n",
        "y_train_sample = df['Weight']\n",
        "\n",
        "lr_sample = LinearRegression()\n"
      ]
    },
    {
      "cell_type": "code",
      "execution_count": null,
      "metadata": {
        "colab": {
          "base_uri": "https://localhost:8080/",
          "height": 75
        },
        "id": "VrT3QgREW0gM",
        "outputId": "dc2c7631-d834-4dc6-bc36-792f6d913e5e"
      },
      "outputs": [
        {
          "data": {
            "text/html": [
              "<style>#sk-container-id-1 {color: black;background-color: white;}#sk-container-id-1 pre{padding: 0;}#sk-container-id-1 div.sk-toggleable {background-color: white;}#sk-container-id-1 label.sk-toggleable__label {cursor: pointer;display: block;width: 100%;margin-bottom: 0;padding: 0.3em;box-sizing: border-box;text-align: center;}#sk-container-id-1 label.sk-toggleable__label-arrow:before {content: \"▸\";float: left;margin-right: 0.25em;color: #696969;}#sk-container-id-1 label.sk-toggleable__label-arrow:hover:before {color: black;}#sk-container-id-1 div.sk-estimator:hover label.sk-toggleable__label-arrow:before {color: black;}#sk-container-id-1 div.sk-toggleable__content {max-height: 0;max-width: 0;overflow: hidden;text-align: left;background-color: #f0f8ff;}#sk-container-id-1 div.sk-toggleable__content pre {margin: 0.2em;color: black;border-radius: 0.25em;background-color: #f0f8ff;}#sk-container-id-1 input.sk-toggleable__control:checked~div.sk-toggleable__content {max-height: 200px;max-width: 100%;overflow: auto;}#sk-container-id-1 input.sk-toggleable__control:checked~label.sk-toggleable__label-arrow:before {content: \"▾\";}#sk-container-id-1 div.sk-estimator input.sk-toggleable__control:checked~label.sk-toggleable__label {background-color: #d4ebff;}#sk-container-id-1 div.sk-label input.sk-toggleable__control:checked~label.sk-toggleable__label {background-color: #d4ebff;}#sk-container-id-1 input.sk-hidden--visually {border: 0;clip: rect(1px 1px 1px 1px);clip: rect(1px, 1px, 1px, 1px);height: 1px;margin: -1px;overflow: hidden;padding: 0;position: absolute;width: 1px;}#sk-container-id-1 div.sk-estimator {font-family: monospace;background-color: #f0f8ff;border: 1px dotted black;border-radius: 0.25em;box-sizing: border-box;margin-bottom: 0.5em;}#sk-container-id-1 div.sk-estimator:hover {background-color: #d4ebff;}#sk-container-id-1 div.sk-parallel-item::after {content: \"\";width: 100%;border-bottom: 1px solid gray;flex-grow: 1;}#sk-container-id-1 div.sk-label:hover label.sk-toggleable__label {background-color: #d4ebff;}#sk-container-id-1 div.sk-serial::before {content: \"\";position: absolute;border-left: 1px solid gray;box-sizing: border-box;top: 0;bottom: 0;left: 50%;z-index: 0;}#sk-container-id-1 div.sk-serial {display: flex;flex-direction: column;align-items: center;background-color: white;padding-right: 0.2em;padding-left: 0.2em;position: relative;}#sk-container-id-1 div.sk-item {position: relative;z-index: 1;}#sk-container-id-1 div.sk-parallel {display: flex;align-items: stretch;justify-content: center;background-color: white;position: relative;}#sk-container-id-1 div.sk-item::before, #sk-container-id-1 div.sk-parallel-item::before {content: \"\";position: absolute;border-left: 1px solid gray;box-sizing: border-box;top: 0;bottom: 0;left: 50%;z-index: -1;}#sk-container-id-1 div.sk-parallel-item {display: flex;flex-direction: column;z-index: 1;position: relative;background-color: white;}#sk-container-id-1 div.sk-parallel-item:first-child::after {align-self: flex-end;width: 50%;}#sk-container-id-1 div.sk-parallel-item:last-child::after {align-self: flex-start;width: 50%;}#sk-container-id-1 div.sk-parallel-item:only-child::after {width: 0;}#sk-container-id-1 div.sk-dashed-wrapped {border: 1px dashed gray;margin: 0 0.4em 0.5em 0.4em;box-sizing: border-box;padding-bottom: 0.4em;background-color: white;}#sk-container-id-1 div.sk-label label {font-family: monospace;font-weight: bold;display: inline-block;line-height: 1.2em;}#sk-container-id-1 div.sk-label-container {text-align: center;}#sk-container-id-1 div.sk-container {/* jupyter's `normalize.less` sets `[hidden] { display: none; }` but bootstrap.min.css set `[hidden] { display: none !important; }` so we also need the `!important` here to be able to override the default hidden behavior on the sphinx rendered scikit-learn.org. See: https://github.com/scikit-learn/scikit-learn/issues/21755 */display: inline-block !important;position: relative;}#sk-container-id-1 div.sk-text-repr-fallback {display: none;}</style><div id=\"sk-container-id-1\" class=\"sk-top-container\"><div class=\"sk-text-repr-fallback\"><pre>LinearRegression()</pre><b>In a Jupyter environment, please rerun this cell to show the HTML representation or trust the notebook. <br />On GitHub, the HTML representation is unable to render, please try loading this page with nbviewer.org.</b></div><div class=\"sk-container\" hidden><div class=\"sk-item\"><div class=\"sk-estimator sk-toggleable\"><input class=\"sk-toggleable__control sk-hidden--visually\" id=\"sk-estimator-id-1\" type=\"checkbox\" checked><label for=\"sk-estimator-id-1\" class=\"sk-toggleable__label sk-toggleable__label-arrow\">LinearRegression</label><div class=\"sk-toggleable__content\"><pre>LinearRegression()</pre></div></div></div></div></div>"
            ],
            "text/plain": [
              "LinearRegression()"
            ]
          },
          "execution_count": 9,
          "metadata": {},
          "output_type": "execute_result"
        }
      ],
      "source": [
        "lr_sample.fit(X_train_sample, y_train_sample)"
      ]
    },
    {
      "cell_type": "code",
      "execution_count": null,
      "metadata": {
        "colab": {
          "base_uri": "https://localhost:8080/"
        },
        "id": "_gaeF2rNW0gM",
        "outputId": "b0c7e4f1-49c4-42e2-905b-7b2c4d30cfdd"
      },
      "outputs": [
        {
          "data": {
            "text/plain": [
              "array([162.98230194, 162.16415492, 161.83491175, 162.90559942,\n",
              "       162.19269442])"
            ]
          },
          "execution_count": 10,
          "metadata": {},
          "output_type": "execute_result"
        }
      ],
      "source": [
        "lr_sample.predict(X_train_sample)[:5])"
      ]
    },
    {
      "cell_type": "code",
      "execution_count": null,
      "metadata": {
        "colab": {
          "base_uri": "https://localhost:8080/"
        },
        "id": "Fi8KcwEDW0gM",
        "outputId": "b70fbd00-a375-429e-f493-35f593212b1f"
      },
      "outputs": [
        {
          "data": {
            "text/plain": [
              "array([-0.12033632])"
            ]
          },
          "execution_count": 11,
          "metadata": {},
          "output_type": "execute_result"
        }
      ],
      "source": [
        "lr_sample.coef_"
      ]
    },
    {
      "cell_type": "code",
      "execution_count": null,
      "metadata": {
        "colab": {
          "base_uri": "https://localhost:8080/"
        },
        "id": "ZN7rVrP1W0gM",
        "outputId": "c335fc9d-9e86-473c-aabb-af08e1174a53"
      },
      "outputs": [
        {
          "data": {
            "text/plain": [
              "172.64666392489698"
            ]
          },
          "execution_count": 12,
          "metadata": {},
          "output_type": "execute_result"
        }
      ],
      "source": [
        "lr_sample.intercept_"
      ]
    },
    {
      "cell_type": "code",
      "execution_count": null,
      "metadata": {
        "colab": {
          "base_uri": "https://localhost:8080/",
          "height": 448
        },
        "id": "7F3AG0AyW0gM",
        "outputId": "d2897894-b338-48fd-c602-6e00f3acebb7"
      },
      "outputs": [
        {
          "data": {
            "text/plain": [
              "[<matplotlib.lines.Line2D at 0x7d8bebb66cb0>]"
            ]
          },
          "execution_count": 13,
          "metadata": {},
          "output_type": "execute_result"
        },
        {
          "data": {
            "image/png": "[encoded data removed]",
            "text/plain": [
              "<Figure size 640x480 with 1 Axes>"
            ]
          },
          "metadata": {},
          "output_type": "display_data"
        }
      ],
      "source": [
        "plt.scatter(X_train_sample, y_train_sample, alpha=0.05);\n",
        "plt.plot(X_train_sample, (lr_sample.coef_*X_train_sample)+lr_sample.intercept_, c='black')"
      ]
    },
    {
      "cell_type": "code",
      "execution_count": null,
      "metadata": {
        "colab": {
          "base_uri": "https://localhost:8080/"
        },
        "id": "MTBhoODpW0gN",
        "outputId": "9c0bc81d-5f63-4911-8623-3ff1724d044a"
      },
      "outputs": [
        {
          "data": {
            "text/plain": [
              "0.05965704519172066"
            ]
          },
          "execution_count": 14,
          "metadata": {},
          "output_type": "execute_result"
        }
      ],
      "source": [
        "lr_sample.score(X_train_sample, y_train_sample)"
      ]
    },
    {
      "cell_type": "markdown",
      "metadata": {
        "id": "4mnzmlvLW0gN"
      },
      "source": [
        "## Coefficients and Intercept\n",
        "\n",
        "The intuition behind Linear Regression is in the coefficients and intercept.\n",
        "\n",
        "Some people refer to the coefficients as weights and the intercept as the bias. The 'Weights' and 'Bias' are what is being learned during `fit`."
      ]
    },
    {
      "cell_type": "markdown",
      "metadata": {
        "id": "VYIsJlwEW0gN"
      },
      "source": [
        "## Let's load the California Housing Data Set\n",
        "\n",
        "[Documentation](https://scikit-learn.org/stable/datasets/real_world.html#california-housing-dataset)"
      ]
    },
    {
      "cell_type": "code",
      "execution_count": null,
      "metadata": {
        "id": "VD690F5bW0gN"
      },
      "outputs": [],
      "source": [
        "#import\n"
      ]
    },
    {
      "cell_type": "code",
      "execution_count": null,
      "metadata": {
        "id": "YzkOn8ZQW0gN"
      },
      "outputs": [],
      "source": [
        "#Load\n"
      ]
    },
    {
      "cell_type": "markdown",
      "metadata": {
        "id": "EnY_43iKW0gU",
        "jp-MarkdownHeadingCollapsed": true,
        "tags": []
      },
      "source": [
        "## The golden rule\n",
        "- **You need to split your data into train and test**\n"
      ]
    },
    {
      "cell_type": "markdown",
      "metadata": {
        "id": "ZPAxvZWqW0gU"
      },
      "source": [
        "## So... how do we split?\n",
        "- Most common way is to use `train_test_split` in `sklearn`\n",
        "- Shuffles the data first and then splits it\n",
        "- 80/20, 75/25, 70/30 are common splits"
      ]
    },
    {
      "cell_type": "markdown",
      "metadata": {
        "id": "u7SkRd0jW0gU"
      },
      "source": [
        "## Splitting out our X and y\n",
        "- In this case, we are working with a regression problem. Could you say why?\n",
        "- What are the features?\n",
        "- What is the target?"
      ]
    },
    {
      "cell_type": "code",
      "execution_count": null,
      "metadata": {
        "id": "M8IVtkRWW0gU"
      },
      "outputs": [],
      "source": [
        "# Create DataFrame for features (X) and target (y)\n",
        "# Display first 5 rows of X\n"
      ]
    },
    {
      "cell_type": "code",
      "execution_count": null,
      "metadata": {
        "id": "V3WHxO3EW0gU"
      },
      "outputs": [],
      "source": [
        " # Show first 5 columns\n"
      ]
    },
    {
      "cell_type": "code",
      "execution_count": null,
      "metadata": {
        "id": "NDjmr67tW0gV"
      },
      "outputs": [],
      "source": [
        "# Split the data into training and testing sets (25% for testing)\n"
      ]
    },
    {
      "cell_type": "code",
      "execution_count": null,
      "metadata": {
        "id": "CQrGDt2Hgb7S"
      },
      "outputs": [],
      "source": [
        "# Print the total number of records in the dataset\n"
      ]
    },
    {
      "cell_type": "code",
      "execution_count": null,
      "metadata": {
        "id": "rZuJXUtuhgQV"
      },
      "outputs": [],
      "source": [
        " # Display the shape of the training feature set (X_train)\n"
      ]
    },
    {
      "cell_type": "code",
      "execution_count": null,
      "metadata": {
        "id": "WqEithnoW0gV"
      },
      "outputs": [],
      "source": [
        "# Display the shape of the training feature set (X_train)\n"
      ]
    },
    {
      "cell_type": "code",
      "execution_count": null,
      "metadata": {
        "id": "55IMaKd6W0gV"
      },
      "outputs": [],
      "source": [
        "# Display the shape of the testing feature set (X_test)\n"
      ]
    },
    {
      "cell_type": "code",
      "execution_count": null,
      "metadata": {
        "id": "vPxqbkSZW0gV"
      },
      "outputs": [],
      "source": [
        "# Calculate and display the proportion of training data relative to the total data\n"
      ]
    },
    {
      "cell_type": "code",
      "execution_count": null,
      "metadata": {
        "id": "NtshOPzfW0gV"
      },
      "outputs": [],
      "source": [
        "# Display summary statistics of the feature set (X)\n"
      ]
    },
    {
      "cell_type": "markdown",
      "metadata": {
        "id": "1Uiv_UvPW0gV"
      },
      "source": [
        "## Scaling the data"
      ]
    },
    {
      "cell_type": "code",
      "execution_count": null,
      "metadata": {
        "id": "L_tXncnjW0gV"
      },
      "outputs": [],
      "source": [
        "# Standardize the training feature set using StandardScaler\n"
      ]
    },
    {
      "cell_type": "code",
      "execution_count": null,
      "metadata": {
        "id": "S3CZpMRhW0gV"
      },
      "outputs": [],
      "source": [
        "# Convert the scaled training data back into a DataFrame and display summary statistics\n"
      ]
    },
    {
      "cell_type": "code",
      "execution_count": null,
      "metadata": {
        "id": "yDcGHsdwi-bV"
      },
      "outputs": [],
      "source": [
        "#X_train_scaled_df.head()\n"
      ]
    },
    {
      "cell_type": "code",
      "execution_count": null,
      "metadata": {
        "id": "kJbQh1dJixJG"
      },
      "outputs": [],
      "source": [
        "# Import seaborn for data visualization\n",
        "# Plot the distribution of the 'Population' feature from the scaled training data with a kernel density estimate\n",
        "## Uncomment the line below to plot the distribution of the 'Population' feature from the original training data\n",
        "\n",
        "#sn.distplot(X_train['Population'], kde=True)"
      ]
    },
    {
      "cell_type": "markdown",
      "metadata": {
        "id": "p5PXe_8QW0gV"
      },
      "source": [
        "## Training the model"
      ]
    },
    {
      "cell_type": "code",
      "execution_count": null,
      "metadata": {
        "id": "xVbufSTOW0gV"
      },
      "outputs": [],
      "source": [
        "# Import LinearRegression from sklearn and fit the model on the scaled training data\n",
        "# Create a LinearRegression instance\n",
        "# Fit the model to the scaled training data\n"
      ]
    },
    {
      "cell_type": "code",
      "execution_count": null,
      "metadata": {
        "id": "HZCTfcVVW0gW"
      },
      "outputs": [],
      "source": [
        "# Retrieve the coefficients of the fitted linear regression model\n"
      ]
    },
    {
      "cell_type": "code",
      "execution_count": null,
      "metadata": {
        "id": "MzS6q7QcW0gW"
      },
      "outputs": [],
      "source": [
        "# Retrieve the intercept of the fitted linear regression model\n"
      ]
    },
    {
      "cell_type": "code",
      "execution_count": null,
      "metadata": {
        "id": "CfYUqEb1W0gW"
      },
      "outputs": [],
      "source": [
        "# Create a DataFrame to display the coefficients of the linear regression model along with their corresponding feature names\n"
      ]
    },
    {
      "cell_type": "markdown",
      "metadata": {
        "id": "zfWRXbHIW0gW"
      },
      "source": [
        "Let’s try to make some sense of it here!\n",
        "\n",
        "We can use these coefficients to interpret our model. They show us how much each of these features affects our model’s prediction."
      ]
    },
    {
      "cell_type": "markdown",
      "metadata": {
        "id": "DAespdMFW0gW"
      },
      "source": [
        "**IMPORTANT**\n",
        "In linear models:\n",
        "\n",
        "* if the coefficient is +, then if the feature value goes UP the predicted value goes UP\n",
        "* if the coefficient is -, then if the feature values goes UP the predicted value goes DOWN\n",
        "* if the coefficient is 0, the feature is not used in making a prediction"
      ]
    },
    {
      "cell_type": "markdown",
      "metadata": {
        "id": "5EkVyUSlW0gW"
      },
      "source": [
        "## Feature Importances"
      ]
    },
    {
      "cell_type": "code",
      "execution_count": null,
      "metadata": {
        "id": "9SwdRXzBW0gW"
      },
      "outputs": [],
      "source": [
        "# Import statsmodels for statistical modeling\n",
        "# Create an OLS model with the scaled training data and target variable\n",
        "# Fit the model to the training data\n"
      ]
    },
    {
      "cell_type": "code",
      "execution_count": null,
      "metadata": {
        "id": "REuWRNSzW0gW"
      },
      "outputs": [],
      "source": [
        "# Retrieve the estimated parameters (coefficients) from the fitted OLS model\n"
      ]
    },
    {
      "cell_type": "code",
      "execution_count": null,
      "metadata": {
        "id": "qp8Z_fobW0gW"
      },
      "outputs": [],
      "source": [
        "# Display a summary of the OLS regression results, including statistical metrics\n"
      ]
    },
    {
      "cell_type": "code",
      "execution_count": null,
      "metadata": {
        "id": "OtCFTn8DpxZX"
      },
      "outputs": [],
      "source": [
        "# Install the rfpimp package for feature importance analysis\n"
      ]
    },
    {
      "cell_type": "code",
      "execution_count": null,
      "metadata": {
        "id": "60XfMLuYW0gX"
      },
      "outputs": [],
      "source": [
        "# Import necessary functions from the rfpimp package for feature importance analysis\n"
      ]
    },
    {
      "cell_type": "code",
      "execution_count": null,
      "metadata": {
        "id": "_BPSHfSnW0gX"
      },
      "outputs": [],
      "source": [
        "# Create a DataFrame for the scaled training data, calculate feature importances, and plot the results\n"
      ]
    },
    {
      "cell_type": "code",
      "execution_count": null,
      "metadata": {
        "id": "wQOzd3TGW0gX"
      },
      "outputs": [],
      "source": [
        "# Define a function to calculate and plot feature importances,\n",
        "# excluding 'Latitude' and 'Longitude' individually, but including them together as a combined feature\n"
      ]
    },
    {
      "cell_type": "markdown",
      "metadata": {
        "id": "7-Uc2mM3W0gX"
      },
      "source": [
        "## Predicting"
      ]
    },
    {
      "cell_type": "code",
      "execution_count": null,
      "metadata": {
        "id": "obHsHeZ6W0gX"
      },
      "outputs": [],
      "source": [
        "# Standardize the test feature set using the previously fitted scaler\n",
        "# Display the first 5 rows of the scaled test data\n"
      ]
    },
    {
      "cell_type": "code",
      "execution_count": null,
      "metadata": {
        "id": "c4mCOrAHW0gX"
      },
      "outputs": [],
      "source": [
        "# Use the fitted linear regression model to make predictions on the scaled test data\n"
      ]
    },
    {
      "cell_type": "code",
      "execution_count": null,
      "metadata": {
        "id": "vxz-w29OW0gX"
      },
      "outputs": [],
      "source": [
        "# Retrieve the actual target values from the test dataset\n"
      ]
    },
    {
      "cell_type": "markdown",
      "metadata": {
        "id": "jqzU859jW0gX"
      },
      "source": [
        "## Prediction By Hand"
      ]
    },
    {
      "cell_type": "code",
      "execution_count": null,
      "metadata": {
        "id": "TU0tHwnWW0gX"
      },
      "outputs": [],
      "source": [
        "# Retrieve the coefficients of the fitted linear regression model\n"
      ]
    },
    {
      "cell_type": "code",
      "execution_count": null,
      "metadata": {
        "id": "8pTExclrW0gX"
      },
      "outputs": [],
      "source": [
        "# Retrieve the intercept of the fitted linear regression model\n"
      ]
    },
    {
      "cell_type": "markdown",
      "metadata": {
        "id": "5UfyUCybW0gY"
      },
      "source": [
        "$$\\hat{y} = w_1x_1 + w_2x_2 + ... + w_8x_8 + b$$"
      ]
    },
    {
      "cell_type": "code",
      "execution_count": null,
      "metadata": {
        "id": "KiTmPG5CW0gY"
      },
      "outputs": [],
      "source": [
        "# Print the scaled feature values for the second test sample\n",
        "# Calculate the predicted value for the first test sample using the model's coefficients and intercept\n",
        "\n"
      ]
    },
    {
      "cell_type": "markdown",
      "metadata": {
        "id": "kXgl5zNdW0gY"
      },
      "source": [
        "## Results interpretation\n",
        "\n",
        "- Weights (coef_)\n",
        "- Bias (intercept_)\n",
        "\n",
        "- **R-squared** measures the proportion of the variation in your dependent variable (Y) explained by your independent variables (X) for a linear regression model\n",
        "- **Adjusted R-squared** adjusts the statistic based on the number of independent variables in the model"
      ]
    },
    {
      "cell_type": "markdown",
      "metadata": {
        "id": "XhdumH-yW0gY"
      },
      "source": [
        "**What does that mean?**\n",
        "\n",
        "* $R^2$ is a measure of fit.  \n",
        "  \n",
        "* It indicates how much variation of a dependent variable is explained by the independent variables.\n",
        "  \n",
        "* An R-squared of 100% means that $y$ is completely explained by the independent variables.\n"
      ]
    },
    {
      "cell_type": "markdown",
      "metadata": {
        "id": "b6yhHKjlW0gY"
      },
      "source": [
        "$R^2 = 1 - \\frac{Unexplained Variation}{TotalVariation}$"
      ]
    },
    {
      "cell_type": "markdown",
      "metadata": {
        "id": "Xq6prBbWW0gY"
      },
      "source": [
        "$R^2 = 1 - \\frac{RSS}{TSS}$\n",
        "\n",
        "$R^2\t=\t$   coefficient of determination    \n",
        "$RSS\t=\t$  sum of squares of residuals   \n",
        "$$RSS =\\sum_{i=1}^{n}(y_{i}-{\\hat{y}})^{2}$$   \n",
        "$TSS\t=\t$   total sum of squares   \n",
        "$$TSS=\\sum_{i=1}^{n}(y_{i}-\\bar{y})^{2}$$\n",
        "$\\bar{y}$ = mean value"
      ]
    },
    {
      "cell_type": "markdown",
      "metadata": {
        "id": "S0B5vD-jW0gY"
      },
      "source": [
        "Thus,\n",
        "\n",
        "$$\n",
        "R^2 = 1 - \\frac{\\sum_{i=1}^{n}(y_{i}-{\\hat{y}})^{2}}{\\sum_{i=1}^{n}(y_{i}-\\bar{y})^{2}}\n",
        "$$"
      ]
    },
    {
      "cell_type": "code",
      "execution_count": null,
      "metadata": {
        "id": "uCeqj9usW0gY"
      },
      "outputs": [],
      "source": [
        "# Calculate and display the coefficient of determination (R²) of the model on the test data\n"
      ]
    },
    {
      "cell_type": "markdown",
      "metadata": {
        "id": "yLw-ZJ_pW0gY"
      },
      "source": [
        "## Understanding $R^2$"
      ]
    },
    {
      "cell_type": "code",
      "execution_count": null,
      "metadata": {
        "id": "50ZiDj-dW0gY"
      },
      "outputs": [],
      "source": [
        "# Generate synthetic data for linear regression and create a scatter plot to visualize it\n"
      ]
    },
    {
      "cell_type": "code",
      "execution_count": null,
      "metadata": {
        "id": "UNj0e-q5W0gY"
      },
      "outputs": [],
      "source": [
        "# Define a function to create a plot of the training data and the fitted linear regression model\n",
        "# Create a grid of values for plotting the model\n"
      ]
    },
    {
      "cell_type": "code",
      "execution_count": null,
      "metadata": {
        "id": "cnImoxUCW0gZ",
        "scrolled": true
      },
      "outputs": [],
      "source": [
        "# Fit a linear regression model to the synthetic data and create a plot to visualize the results\n"
      ]
    },
    {
      "cell_type": "markdown",
      "metadata": {
        "id": "NybMrXJ4W0gZ"
      },
      "source": [
        "## Polynomial regression\n",
        "\n",
        "### Non-linear regression motivation\n",
        "- Linear regression might seem rather limited.\n",
        "- What if the true relationship between the target and the features is non-linear?\n",
        "\n",
        "\n",
        "**We still use the linear regression framework, but create quadratic, cubic etc. features**"
      ]
    },
    {
      "cell_type": "markdown",
      "metadata": {
        "id": "VEJrJJlsW0gZ"
      },
      "source": [
        "## Let's see an example"
      ]
    },
    {
      "cell_type": "code",
      "execution_count": null,
      "metadata": {
        "id": "rVBAf21mW0gZ"
      },
      "outputs": [],
      "source": [
        "# Generate synthetic quadratic data with added noise\n",
        "\n",
        "\n",
        "# transforming the data to include another axis\n"
      ]
    },
    {
      "cell_type": "code",
      "execution_count": null,
      "metadata": {
        "id": "TkABV6TzW0gZ"
      },
      "outputs": [],
      "source": [
        "# Create a scatter plot of the generated quadratic data\n"
      ]
    },
    {
      "cell_type": "markdown",
      "metadata": {
        "id": "eDT17zmDW0gZ"
      },
      "source": [
        "## Fitting a linear regression line"
      ]
    },
    {
      "cell_type": "code",
      "execution_count": null,
      "metadata": {
        "id": "0goKZYaGW0gZ"
      },
      "outputs": [],
      "source": [
        "# Fit a linear regression model to the quadratic data and make predictions\n",
        "# Create a scatter plot of the original data and plot the linear regression predictions\n"
      ]
    },
    {
      "cell_type": "markdown",
      "metadata": {
        "id": "RI_YpAESW0gZ"
      },
      "source": [
        "## Using polynomial features"
      ]
    },
    {
      "cell_type": "code",
      "execution_count": null,
      "metadata": {
        "id": "au1ckk4YW0gZ"
      },
      "outputs": [],
      "source": [
        "# Import PolynomialFeatures from sklearn to allow for polynomial feature transformation\n"
      ]
    },
    {
      "cell_type": "code",
      "execution_count": null,
      "metadata": {
        "id": "XX1co6tEW0gZ",
        "scrolled": true
      },
      "outputs": [],
      "source": [
        "# Transform the original features into polynomial features of specified degree\n",
        "# Generate feature names for the polynomial features\n",
        "# Create a DataFrame to hold the polynomial features and the target variable\n",
        "\n"
      ]
    },
    {
      "cell_type": "code",
      "execution_count": null,
      "metadata": {
        "id": "60PNstgrW0gZ"
      },
      "outputs": [],
      "source": [
        "# Display the first few rows of the DataFrame containing polynomial features\n"
      ]
    },
    {
      "cell_type": "markdown",
      "metadata": {
        "id": "wITu3ItFW0gZ"
      },
      "source": [
        "## Fitting polynomial features\n"
      ]
    },
    {
      "cell_type": "markdown",
      "metadata": {
        "id": "hMb-pFgzW0ga"
      },
      "source": [
        "What sklearn does is - If you substitute $x^2$ as another variable such as `m`, then the equation now is:\n",
        "\n",
        "`y=w*m + b`  \n",
        "\n",
        "The relation between `y` and `m` is linear but it is not linear between `x` and `y`.\n",
        "\n",
        "Because of this \"technically\", it is linear regression just the variables between which it happens is $x^2$ (`m`) and `y` and not `x` and `y`."
      ]
    },
    {
      "cell_type": "code",
      "execution_count": null,
      "metadata": {
        "id": "2QzJNxVIW0ga"
      },
      "outputs": [],
      "source": [
        "# Fit a linear regression model to the polynomial features and make predictions\n",
        "# Create a scatter plot of the original data and plot the polynomial regression predictions\n"
      ]
    },
    {
      "cell_type": "code",
      "execution_count": null,
      "metadata": {
        "id": "QlLvm9ixW0ga"
      },
      "outputs": [],
      "source": [
        "# Retrieve the coefficients of the fitted polynomial regression model\n"
      ]
    },
    {
      "cell_type": "code",
      "execution_count": null,
      "metadata": {
        "id": "seI0COnVW0ga"
      },
      "outputs": [],
      "source": [
        "# Retrieve the intercept of the fitted polynomial regression model\n"
      ]
    },
    {
      "cell_type": "code",
      "execution_count": null,
      "metadata": {
        "id": "dlJtH-hxW0ga"
      },
      "outputs": [],
      "source": []
    }
  ],
  "metadata": {
    "celltoolbar": "Slideshow",
    "colab": {
      "provenance": []
    },
    "kernelspec": {
      "display_name": "Python 3 (ipykernel)",
      "language": "python",
      "name": "python3"
    },
    "language_info": {
      "codemirror_mode": {
        "name": "ipython",
        "version": 3
      },
      "file_extension": ".py",
      "mimetype": "text/x-python",
      "name": "python",
      "nbconvert_exporter": "python",
      "pygments_lexer": "ipython3",
      "version": "3.12.3"
    }
  },
  "nbformat": 4,
  "nbformat_minor": 0
}